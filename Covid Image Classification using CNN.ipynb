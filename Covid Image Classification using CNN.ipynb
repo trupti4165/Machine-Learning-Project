{
 "cells": [
  {
   "cell_type": "code",
   "execution_count": 1,
   "id": "b21cc586",
   "metadata": {},
   "outputs": [
    {
     "name": "stdout",
     "output_type": "stream",
     "text": [
      "WARNING:tensorflow:From C:\\Users\\trupt\\anaconda3\\Lib\\site-packages\\keras\\src\\losses.py:2976: The name tf.losses.sparse_softmax_cross_entropy is deprecated. Please use tf.compat.v1.losses.sparse_softmax_cross_entropy instead.\n",
      "\n"
     ]
    }
   ],
   "source": [
    "import numpy as np\n",
    "import tensorflow as tf\n",
    "import matplotlib.pyplot as plt\n",
    "from tensorflow.keras.models import Sequential\n",
    "from tensorflow.keras.layers import Conv2D,MaxPool2D,Flatten,Dense\n",
    "from tensorflow.keras.preprocessing.image import ImageDataGenerator\n",
    "import warnings\n",
    "warnings.filterwarnings(\"ignore\")"
   ]
  },
  {
   "cell_type": "code",
   "execution_count": 2,
   "id": "9296e133",
   "metadata": {},
   "outputs": [],
   "source": [
    "train_dir=r\"C:\\Users\\trupt\\Downloads\\archive (10)\\Covid19-dataset\\train\"\n",
    "test_dir=r\"C:\\Users\\trupt\\Downloads\\archive (10)\\Covid19-dataset\\test\""
   ]
  },
  {
   "cell_type": "code",
   "execution_count": 3,
   "id": "3e0adf3f",
   "metadata": {},
   "outputs": [],
   "source": [
    "train_generator=ImageDataGenerator(\n",
    "   rotation_range=20,\n",
    "width_shift_range=0.2,\n",
    "height_shift_range=0.2,\n",
    "horizontal_flip=True,\n",
    "shear_range=0.2,\n",
    "zoom_range=0.2\n",
    ")"
   ]
  },
  {
   "cell_type": "code",
   "execution_count": 4,
   "id": "2362c0bf",
   "metadata": {},
   "outputs": [],
   "source": [
    "test_generator=ImageDataGenerator(rescale=1.0/255)"
   ]
  },
  {
   "cell_type": "code",
   "execution_count": 5,
   "id": "611c362d",
   "metadata": {},
   "outputs": [],
   "source": [
    "width,height=512,512,\n",
    "batch_size=32"
   ]
  },
  {
   "cell_type": "code",
   "execution_count": 6,
   "id": "5a117482",
   "metadata": {},
   "outputs": [
    {
     "name": "stdout",
     "output_type": "stream",
     "text": [
      "Found 251 images belonging to 3 classes.\n"
     ]
    }
   ],
   "source": [
    "X_train=train_generator.flow_from_directory(\n",
    "train_dir,\n",
    "target_size=(width,height),\n",
    "batch_size=batch_size,\n",
    "class_mode='categorical'\n",
    ")"
   ]
  },
  {
   "cell_type": "code",
   "execution_count": 7,
   "id": "77ac0f08",
   "metadata": {},
   "outputs": [
    {
     "name": "stdout",
     "output_type": "stream",
     "text": [
      "Found 66 images belonging to 3 classes.\n"
     ]
    }
   ],
   "source": [
    "X_test=test_generator.flow_from_directory(\n",
    "test_dir,\n",
    "target_size=(width,height),\n",
    "batch_size=batch_size,\n",
    "class_mode='categorical'\n",
    ")"
   ]
  },
  {
   "cell_type": "code",
   "execution_count": 8,
   "id": "05100420",
   "metadata": {},
   "outputs": [
    {
     "name": "stdout",
     "output_type": "stream",
     "text": [
      "WARNING:tensorflow:From C:\\Users\\trupt\\anaconda3\\Lib\\site-packages\\keras\\src\\backend.py:873: The name tf.get_default_graph is deprecated. Please use tf.compat.v1.get_default_graph instead.\n",
      "\n",
      "WARNING:tensorflow:From C:\\Users\\trupt\\anaconda3\\Lib\\site-packages\\keras\\src\\layers\\pooling\\max_pooling2d.py:161: The name tf.nn.max_pool is deprecated. Please use tf.nn.max_pool2d instead.\n",
      "\n"
     ]
    }
   ],
   "source": [
    "model=Sequential([\n",
    "Conv2D(32,(3,3), activation=\"relu\",input_shape=(width,height,3)),\n",
    "MaxPool2D((2,2)),\n",
    "Conv2D(64,(3,3),activation=\"relu\"),\n",
    "MaxPool2D((2,2)),\n",
    "Conv2D(128,(3,3),activation=\"relu\"),\n",
    "MaxPool2D((2,2)),\n",
    "Conv2D(128,(3,3),activation=\"relu\"),\n",
    "MaxPool2D((2,2)),\n",
    "Conv2D(64,(3,3),activation=\"relu\"),\n",
    "MaxPool2D((2,2)),\n",
    "Flatten(),\n",
    "Dense(256,activation=\"relu\"),\n",
    "Dense(128,activation=\"relu\"),\n",
    "Dense(3,activation=\"softmax\"),\n",
    "])"
   ]
  },
  {
   "cell_type": "code",
   "execution_count": 9,
   "id": "2ab8c890",
   "metadata": {},
   "outputs": [
    {
     "name": "stdout",
     "output_type": "stream",
     "text": [
      "WARNING:tensorflow:From C:\\Users\\trupt\\anaconda3\\Lib\\site-packages\\keras\\src\\optimizers\\__init__.py:309: The name tf.train.Optimizer is deprecated. Please use tf.compat.v1.train.Optimizer instead.\n",
      "\n"
     ]
    }
   ],
   "source": [
    "model.compile(optimizer=\"adam\",loss=\"categorical_crossentropy\",metrics=[\"accuracy\"])"
   ]
  },
  {
   "cell_type": "code",
   "execution_count": 10,
   "id": "6d1afa6c",
   "metadata": {},
   "outputs": [
    {
     "name": "stdout",
     "output_type": "stream",
     "text": [
      "Epoch 1/30\n",
      "WARNING:tensorflow:From C:\\Users\\trupt\\anaconda3\\Lib\\site-packages\\keras\\src\\utils\\tf_utils.py:492: The name tf.ragged.RaggedTensorValue is deprecated. Please use tf.compat.v1.ragged.RaggedTensorValue instead.\n",
      "\n",
      "WARNING:tensorflow:From C:\\Users\\trupt\\anaconda3\\Lib\\site-packages\\keras\\src\\engine\\base_layer_utils.py:384: The name tf.executing_eagerly_outside_functions is deprecated. Please use tf.compat.v1.executing_eagerly_outside_functions instead.\n",
      "\n",
      "8/8 [==============================] - 95s 11s/step - loss: 20.4224 - accuracy: 0.3625 - val_loss: 1.0975 - val_accuracy: 0.3939\n",
      "Epoch 2/30\n",
      "8/8 [==============================] - 75s 9s/step - loss: 1.1010 - accuracy: 0.4781 - val_loss: 1.0972 - val_accuracy: 0.3939\n",
      "Epoch 3/30\n",
      "8/8 [==============================] - 72s 9s/step - loss: 0.9633 - accuracy: 0.4980 - val_loss: 1.0949 - val_accuracy: 0.3939\n",
      "Epoch 4/30\n",
      "8/8 [==============================] - 70s 9s/step - loss: 0.7713 - accuracy: 0.6574 - val_loss: 1.0890 - val_accuracy: 0.3939\n",
      "Epoch 5/30\n",
      "8/8 [==============================] - 72s 9s/step - loss: 0.8228 - accuracy: 0.6773 - val_loss: 1.0878 - val_accuracy: 0.3939\n",
      "Epoch 6/30\n",
      "8/8 [==============================] - 76s 9s/step - loss: 0.6583 - accuracy: 0.7291 - val_loss: 1.0824 - val_accuracy: 0.4848\n",
      "Epoch 7/30\n",
      "8/8 [==============================] - 73s 9s/step - loss: 0.7478 - accuracy: 0.6653 - val_loss: 1.0749 - val_accuracy: 0.4848\n",
      "Epoch 8/30\n",
      "8/8 [==============================] - 77s 9s/step - loss: 0.6887 - accuracy: 0.7171 - val_loss: 1.0646 - val_accuracy: 0.5152\n",
      "Epoch 9/30\n",
      "8/8 [==============================] - 77s 9s/step - loss: 0.5928 - accuracy: 0.7888 - val_loss: 1.0622 - val_accuracy: 0.6515\n",
      "Epoch 10/30\n",
      "8/8 [==============================] - 83s 10s/step - loss: 0.5630 - accuracy: 0.7450 - val_loss: 1.0564 - val_accuracy: 0.5455\n",
      "Epoch 11/30\n",
      "8/8 [==============================] - 79s 10s/step - loss: 0.5177 - accuracy: 0.7769 - val_loss: 1.0641 - val_accuracy: 0.5606\n",
      "Epoch 12/30\n",
      "8/8 [==============================] - 79s 10s/step - loss: 0.6271 - accuracy: 0.7530 - val_loss: 1.0675 - val_accuracy: 0.5455\n",
      "Epoch 13/30\n",
      "8/8 [==============================] - 78s 10s/step - loss: 0.4815 - accuracy: 0.8127 - val_loss: 1.0687 - val_accuracy: 0.4394\n",
      "Epoch 14/30\n",
      "8/8 [==============================] - 82s 10s/step - loss: 0.4477 - accuracy: 0.8167 - val_loss: 1.0748 - val_accuracy: 0.3030\n",
      "Epoch 15/30\n",
      "8/8 [==============================] - 79s 10s/step - loss: 0.4503 - accuracy: 0.8127 - val_loss: 1.0682 - val_accuracy: 0.5000\n",
      "Epoch 16/30\n",
      "8/8 [==============================] - 80s 10s/step - loss: 0.3964 - accuracy: 0.8446 - val_loss: 1.0674 - val_accuracy: 0.5909\n",
      "Epoch 17/30\n",
      "8/8 [==============================] - 76s 9s/step - loss: 0.3856 - accuracy: 0.8207 - val_loss: 1.0717 - val_accuracy: 0.6061\n",
      "Epoch 18/30\n",
      "8/8 [==============================] - 80s 10s/step - loss: 0.4190 - accuracy: 0.8486 - val_loss: 1.0636 - val_accuracy: 0.3939\n",
      "Epoch 19/30\n",
      "8/8 [==============================] - 78s 10s/step - loss: 0.3900 - accuracy: 0.8526 - val_loss: 1.0851 - val_accuracy: 0.5152\n",
      "Epoch 20/30\n",
      "8/8 [==============================] - 79s 10s/step - loss: 0.4502 - accuracy: 0.8127 - val_loss: 1.1124 - val_accuracy: 0.5758\n",
      "Epoch 21/30\n",
      "8/8 [==============================] - 81s 10s/step - loss: 0.4941 - accuracy: 0.7968 - val_loss: 1.0548 - val_accuracy: 0.6667\n",
      "Epoch 22/30\n",
      "8/8 [==============================] - 80s 10s/step - loss: 0.4591 - accuracy: 0.8048 - val_loss: 1.0533 - val_accuracy: 0.6667\n",
      "Epoch 23/30\n",
      "8/8 [==============================] - 79s 10s/step - loss: 0.3699 - accuracy: 0.8406 - val_loss: 1.0499 - val_accuracy: 0.5455\n",
      "Epoch 24/30\n",
      "8/8 [==============================] - 81s 10s/step - loss: 0.3323 - accuracy: 0.8685 - val_loss: 1.0595 - val_accuracy: 0.5303\n",
      "Epoch 25/30\n",
      "8/8 [==============================] - 80s 10s/step - loss: 0.3684 - accuracy: 0.8526 - val_loss: 1.0824 - val_accuracy: 0.4394\n",
      "Epoch 26/30\n",
      "8/8 [==============================] - 80s 10s/step - loss: 0.4095 - accuracy: 0.8446 - val_loss: 1.1087 - val_accuracy: 0.5152\n",
      "Epoch 27/30\n",
      "8/8 [==============================] - 82s 10s/step - loss: 0.3290 - accuracy: 0.8805 - val_loss: 1.1197 - val_accuracy: 0.4091\n",
      "Epoch 28/30\n",
      "8/8 [==============================] - 79s 10s/step - loss: 0.3781 - accuracy: 0.8406 - val_loss: 1.1765 - val_accuracy: 0.3939\n",
      "Epoch 29/30\n",
      "8/8 [==============================] - 79s 10s/step - loss: 0.4117 - accuracy: 0.8566 - val_loss: 1.2334 - val_accuracy: 0.3939\n",
      "Epoch 30/30\n",
      "8/8 [==============================] - 80s 10s/step - loss: 0.3830 - accuracy: 0.8486 - val_loss: 1.2268 - val_accuracy: 0.3939\n"
     ]
    }
   ],
   "source": [
    "history=model.fit(X_train,epochs=30,batch_size=batch_size,validation_data=X_test)"
   ]
  },
  {
   "cell_type": "code",
   "execution_count": 11,
   "id": "1b39af8f",
   "metadata": {},
   "outputs": [
    {
     "data": {
      "text/plain": [
       "<matplotlib.legend.Legend at 0x1eced3e4310>"
      ]
     },
     "execution_count": 11,
     "metadata": {},
     "output_type": "execute_result"
    },
    {
     "data": {
      "image/png": "[encoded data removed]",
      "text/plain": [
       "<Figure size 640x480 with 1 Axes>"
      ]
     },
     "metadata": {},
     "output_type": "display_data"
    }
   ],
   "source": [
    "plt.plot(history.history[\"accuracy\"],label=\"Training Accuracy\")\n",
    "plt.plot(history.history[\"val_accuracy\"],label=\"Validation Accuracy\")\n",
    "plt.xlabel=(\"Epochs\")\n",
    "plt.ylabel=(\"Accuracy\")\n",
    "plt.title=(\"Accuracy\")\n",
    "plt.legend()"
   ]
  },
  {
   "cell_type": "code",
   "execution_count": 12,
   "id": "497fd59a",
   "metadata": {},
   "outputs": [
    {
     "data": {
      "text/plain": [
       "<matplotlib.legend.Legend at 0x1eced3aa410>"
      ]
     },
     "execution_count": 12,
     "metadata": {},
     "output_type": "execute_result"
    },
    {
     "data": {
      "image/png": "[encoded data removed]",
      "text/plain": [
       "<Figure size 640x480 with 1 Axes>"
      ]
     },
     "metadata": {},
     "output_type": "display_data"
    }
   ],
   "source": [
    "plt.plot(history.history[\"loss\"],label=\"Training Loss\")\n",
    "plt.plot(history.history[\"val_loss\"],label=\"Validation Loss\")\n",
    "plt.xlabel=(\"Epochs\")\n",
    "plt.ylabel=(\"Loss\")\n",
    "plt.title=(\"Loss\")\n",
    "plt.legend()"
   ]
  },
  {
   "cell_type": "code",
   "execution_count": 13,
   "id": "064eb38d",
   "metadata": {},
   "outputs": [
    {
     "name": "stdout",
     "output_type": "stream",
     "text": [
      "Class Names {0: 'Covid', 1: 'Normal', 2: 'Viral Pneumonia'}\n"
     ]
    }
   ],
   "source": [
    "class_names=X_test.class_indices\n",
    "classes={value:key for key, value in class_names.items()}\n",
    "print(\"Class Names\",classes)"
   ]
  },
  {
   "cell_type": "code",
   "execution_count": 14,
   "id": "a73fca5b",
   "metadata": {},
   "outputs": [],
   "source": [
    "from tensorflow.keras.preprocessing import image"
   ]
  },
  {
   "cell_type": "code",
   "execution_count": 15,
   "id": "5ecccd66",
   "metadata": {},
   "outputs": [],
   "source": [
    "img=image.load_img(r\"C:\\Users\\trupt\\Downloads\\archive (10)\\Covid19-dataset\\test\\Covid\\0100.jpeg\",target_size=(width,height))"
   ]
  },
  {
   "cell_type": "code",
   "execution_count": 16,
   "id": "fffa039e",
   "metadata": {},
   "outputs": [],
   "source": [
    "img_arr=image.img_to_array(img)"
   ]
  },
  {
   "cell_type": "code",
   "execution_count": 17,
   "id": "4d1b7806",
   "metadata": {},
   "outputs": [],
   "source": [
    "img_arr=np.expand_dims(img_arr,axis=0)"
   ]
  },
  {
   "cell_type": "code",
   "execution_count": 18,
   "id": "0ba333c2",
   "metadata": {},
   "outputs": [],
   "source": [
    "img_arr=img_arr/255"
   ]
  },
  {
   "cell_type": "code",
   "execution_count": 19,
   "id": "9b5c6090",
   "metadata": {},
   "outputs": [
    {
     "name": "stdout",
     "output_type": "stream",
     "text": [
      "1/1 [==============================] - 1s 636ms/step\n"
     ]
    }
   ],
   "source": [
    "pred=model.predict(img_arr)"
   ]
  },
  {
   "cell_type": "code",
   "execution_count": 20,
   "id": "047cdb82",
   "metadata": {},
   "outputs": [
    {
     "data": {
      "text/plain": [
       "0"
      ]
     },
     "execution_count": 20,
     "metadata": {},
     "output_type": "execute_result"
    }
   ],
   "source": [
    "np.argmax(pred)"
   ]
  },
  {
   "cell_type": "code",
   "execution_count": 21,
   "id": "a031c89d",
   "metadata": {},
   "outputs": [
    {
     "name": "stdout",
     "output_type": "stream",
     "text": [
      "The given image is of class: Covid\n"
     ]
    }
   ],
   "source": [
    "print(\"The given image is of class:\", classes[np.argmax(pred)])"
   ]
  },
  {
   "cell_type": "code",
   "execution_count": null,
   "id": "68605400",
   "metadata": {},
   "outputs": [],
   "source": []
  }
 ],
 "metadata": {
  "kernelspec": {
   "display_name": "Python 3 (ipykernel)",
   "language": "python",
   "name": "python3"
  },
  "language_info": {
   "codemirror_mode": {
    "name": "ipython",
    "version": 3
   },
   "file_extension": ".py",
   "mimetype": "text/x-python",
   "name": "python",
   "nbconvert_exporter": "python",
   "pygments_lexer": "ipython3",
   "version": "3.11.4"
  }
 },
 "nbformat": 4,
 "nbformat_minor": 5
}
