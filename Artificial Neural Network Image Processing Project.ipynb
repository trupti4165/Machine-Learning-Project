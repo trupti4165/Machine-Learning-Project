{
 "cells": [
  {
   "cell_type": "code",
   "execution_count": 1,
   "id": "c148255b",
   "metadata": {},
   "outputs": [
    {
     "name": "stdout",
     "output_type": "stream",
     "text": [
      "WARNING:tensorflow:From C:\\Users\\trupt\\anaconda3\\Lib\\site-packages\\keras\\src\\losses.py:2976: The name tf.losses.sparse_softmax_cross_entropy is deprecated. Please use tf.compat.v1.losses.sparse_softmax_cross_entropy instead.\n",
      "\n"
     ]
    }
   ],
   "source": [
    "import numpy as np\n",
    "import tensorflow as tf\n",
    "from tensorflow.keras.models import Sequential\n",
    "from tensorflow.keras.layers import Dense,Flatten\n",
    "from tensorflow.keras.utils import to_categorical\n",
    "from tensorflow.keras.datasets import cifar10"
   ]
  },
  {
   "cell_type": "code",
   "execution_count": 2,
   "id": "517bf718",
   "metadata": {},
   "outputs": [],
   "source": [
    "(X_train,y_train),(X_test,y_test)=cifar10.load_data()"
   ]
  },
  {
   "cell_type": "code",
   "execution_count": 3,
   "id": "284fe1e7",
   "metadata": {},
   "outputs": [
    {
     "data": {
      "text/plain": [
       "(50000, 32, 32, 3)"
      ]
     },
     "execution_count": 3,
     "metadata": {},
     "output_type": "execute_result"
    }
   ],
   "source": [
    "X_train.shape"
   ]
  },
  {
   "cell_type": "code",
   "execution_count": 5,
   "id": "875a6e1c",
   "metadata": {},
   "outputs": [
    {
     "data": {
      "text/plain": [
       "3072"
      ]
     },
     "execution_count": 5,
     "metadata": {},
     "output_type": "execute_result"
    }
   ],
   "source": [
    "32*32*3"
   ]
  },
  {
   "cell_type": "code",
   "execution_count": 6,
   "id": "fa9ce5fe",
   "metadata": {},
   "outputs": [
    {
     "data": {
      "text/plain": [
       "array([[[ 59,  62,  63],\n",
       "        [ 43,  46,  45],\n",
       "        [ 50,  48,  43],\n",
       "        ...,\n",
       "        [158, 132, 108],\n",
       "        [152, 125, 102],\n",
       "        [148, 124, 103]],\n",
       "\n",
       "       [[ 16,  20,  20],\n",
       "        [  0,   0,   0],\n",
       "        [ 18,   8,   0],\n",
       "        ...,\n",
       "        [123,  88,  55],\n",
       "        [119,  83,  50],\n",
       "        [122,  87,  57]],\n",
       "\n",
       "       [[ 25,  24,  21],\n",
       "        [ 16,   7,   0],\n",
       "        [ 49,  27,   8],\n",
       "        ...,\n",
       "        [118,  84,  50],\n",
       "        [120,  84,  50],\n",
       "        [109,  73,  42]],\n",
       "\n",
       "       ...,\n",
       "\n",
       "       [[208, 170,  96],\n",
       "        [201, 153,  34],\n",
       "        [198, 161,  26],\n",
       "        ...,\n",
       "        [160, 133,  70],\n",
       "        [ 56,  31,   7],\n",
       "        [ 53,  34,  20]],\n",
       "\n",
       "       [[180, 139,  96],\n",
       "        [173, 123,  42],\n",
       "        [186, 144,  30],\n",
       "        ...,\n",
       "        [184, 148,  94],\n",
       "        [ 97,  62,  34],\n",
       "        [ 83,  53,  34]],\n",
       "\n",
       "       [[177, 144, 116],\n",
       "        [168, 129,  94],\n",
       "        [179, 142,  87],\n",
       "        ...,\n",
       "        [216, 184, 140],\n",
       "        [151, 118,  84],\n",
       "        [123,  92,  72]]], dtype=uint8)"
      ]
     },
     "execution_count": 6,
     "metadata": {},
     "output_type": "execute_result"
    }
   ],
   "source": [
    "X_train[0]"
   ]
  },
  {
   "cell_type": "code",
   "execution_count": 7,
   "id": "bc235930",
   "metadata": {},
   "outputs": [],
   "source": [
    "import matplotlib.pyplot as plt"
   ]
  },
  {
   "cell_type": "code",
   "execution_count": 8,
   "id": "8f6c1504",
   "metadata": {},
   "outputs": [
    {
     "data": {
      "image/png": "[encoded data removed]",
      "text/plain": [
       "<Figure size 640x480 with 1 Axes>"
      ]
     },
     "metadata": {},
     "output_type": "display_data"
    }
   ],
   "source": [
    "plt.imshow(X_train[32425])\n",
    "plt.show()"
   ]
  },
  {
   "cell_type": "code",
   "execution_count": 35,
   "id": "f8788ee2",
   "metadata": {},
   "outputs": [
    {
     "data": {
      "image/png": "[encoded data removed]",
      "text/plain": [
       "<Figure size 640x480 with 1 Axes>"
      ]
     },
     "metadata": {},
     "output_type": "display_data"
    }
   ],
   "source": [
    "plt.imshow(X_train[39096])\n",
    "plt.show()"
   ]
  },
  {
   "cell_type": "code",
   "execution_count": 10,
   "id": "f3f923ab",
   "metadata": {},
   "outputs": [
    {
     "data": {
      "text/plain": [
       "array([2], dtype=uint8)"
      ]
     },
     "execution_count": 10,
     "metadata": {},
     "output_type": "execute_result"
    }
   ],
   "source": [
    "y_train[3245]"
   ]
  },
  {
   "cell_type": "code",
   "execution_count": 11,
   "id": "99b45460",
   "metadata": {},
   "outputs": [],
   "source": [
    "X_train=X_train/255.0\n",
    "X_test=X_test/255.0"
   ]
  },
  {
   "cell_type": "code",
   "execution_count": 12,
   "id": "827b3c3b",
   "metadata": {},
   "outputs": [
    {
     "data": {
      "text/plain": [
       "array([[[0.23137255, 0.24313725, 0.24705882],\n",
       "        [0.16862745, 0.18039216, 0.17647059],\n",
       "        [0.19607843, 0.18823529, 0.16862745],\n",
       "        ...,\n",
       "        [0.61960784, 0.51764706, 0.42352941],\n",
       "        [0.59607843, 0.49019608, 0.4       ],\n",
       "        [0.58039216, 0.48627451, 0.40392157]],\n",
       "\n",
       "       [[0.0627451 , 0.07843137, 0.07843137],\n",
       "        [0.        , 0.        , 0.        ],\n",
       "        [0.07058824, 0.03137255, 0.        ],\n",
       "        ...,\n",
       "        [0.48235294, 0.34509804, 0.21568627],\n",
       "        [0.46666667, 0.3254902 , 0.19607843],\n",
       "        [0.47843137, 0.34117647, 0.22352941]],\n",
       "\n",
       "       [[0.09803922, 0.09411765, 0.08235294],\n",
       "        [0.0627451 , 0.02745098, 0.        ],\n",
       "        [0.19215686, 0.10588235, 0.03137255],\n",
       "        ...,\n",
       "        [0.4627451 , 0.32941176, 0.19607843],\n",
       "        [0.47058824, 0.32941176, 0.19607843],\n",
       "        [0.42745098, 0.28627451, 0.16470588]],\n",
       "\n",
       "       ...,\n",
       "\n",
       "       [[0.81568627, 0.66666667, 0.37647059],\n",
       "        [0.78823529, 0.6       , 0.13333333],\n",
       "        [0.77647059, 0.63137255, 0.10196078],\n",
       "        ...,\n",
       "        [0.62745098, 0.52156863, 0.2745098 ],\n",
       "        [0.21960784, 0.12156863, 0.02745098],\n",
       "        [0.20784314, 0.13333333, 0.07843137]],\n",
       "\n",
       "       [[0.70588235, 0.54509804, 0.37647059],\n",
       "        [0.67843137, 0.48235294, 0.16470588],\n",
       "        [0.72941176, 0.56470588, 0.11764706],\n",
       "        ...,\n",
       "        [0.72156863, 0.58039216, 0.36862745],\n",
       "        [0.38039216, 0.24313725, 0.13333333],\n",
       "        [0.3254902 , 0.20784314, 0.13333333]],\n",
       "\n",
       "       [[0.69411765, 0.56470588, 0.45490196],\n",
       "        [0.65882353, 0.50588235, 0.36862745],\n",
       "        [0.70196078, 0.55686275, 0.34117647],\n",
       "        ...,\n",
       "        [0.84705882, 0.72156863, 0.54901961],\n",
       "        [0.59215686, 0.4627451 , 0.32941176],\n",
       "        [0.48235294, 0.36078431, 0.28235294]]])"
      ]
     },
     "execution_count": 12,
     "metadata": {},
     "output_type": "execute_result"
    }
   ],
   "source": [
    "X_train[0]"
   ]
  },
  {
   "cell_type": "code",
   "execution_count": 13,
   "id": "45e46b32",
   "metadata": {},
   "outputs": [],
   "source": [
    "y_train=to_categorical(y_train,10)\n",
    "y_test=to_categorical(y_test,10)"
   ]
  },
  {
   "cell_type": "code",
   "execution_count": 14,
   "id": "0329f796",
   "metadata": {},
   "outputs": [
    {
     "name": "stdout",
     "output_type": "stream",
     "text": [
      "WARNING:tensorflow:From C:\\Users\\trupt\\anaconda3\\Lib\\site-packages\\keras\\src\\backend.py:873: The name tf.get_default_graph is deprecated. Please use tf.compat.v1.get_default_graph instead.\n",
      "\n"
     ]
    }
   ],
   "source": [
    "model=Sequential([\n",
    "    Flatten(input_shape=(32,32,3)),\n",
    "    Dense(512,activation=\"relu\"),\n",
    "    Dense(256,activation=\"relu\"),\n",
    "    Dense(10,activation=\"softmax\")\n",
    "])"
   ]
  },
  {
   "cell_type": "code",
   "execution_count": 15,
   "id": "b117b271",
   "metadata": {},
   "outputs": [
    {
     "name": "stdout",
     "output_type": "stream",
     "text": [
      "WARNING:tensorflow:From C:\\Users\\trupt\\anaconda3\\Lib\\site-packages\\keras\\src\\optimizers\\__init__.py:309: The name tf.train.Optimizer is deprecated. Please use tf.compat.v1.train.Optimizer instead.\n",
      "\n"
     ]
    }
   ],
   "source": [
    "model.compile(optimizer=\"adam\",loss=\"categorical_crossentropy\",metrics=[\"accuracy\"])"
   ]
  },
  {
   "cell_type": "code",
   "execution_count": 16,
   "id": "739554af",
   "metadata": {},
   "outputs": [
    {
     "name": "stdout",
     "output_type": "stream",
     "text": [
      "Epoch 1/50\n",
      "WARNING:tensorflow:From C:\\Users\\trupt\\anaconda3\\Lib\\site-packages\\keras\\src\\utils\\tf_utils.py:492: The name tf.ragged.RaggedTensorValue is deprecated. Please use tf.compat.v1.ragged.RaggedTensorValue instead.\n",
      "\n",
      "WARNING:tensorflow:From C:\\Users\\trupt\\anaconda3\\Lib\\site-packages\\keras\\src\\engine\\base_layer_utils.py:384: The name tf.executing_eagerly_outside_functions is deprecated. Please use tf.compat.v1.executing_eagerly_outside_functions instead.\n",
      "\n",
      "391/391 [==============================] - 11s 22ms/step - loss: 1.9091 - accuracy: 0.3178 - val_loss: 1.7478 - val_accuracy: 0.3784\n",
      "Epoch 2/50\n",
      "391/391 [==============================] - 8s 20ms/step - loss: 1.6921 - accuracy: 0.3943 - val_loss: 1.6196 - val_accuracy: 0.4230\n",
      "Epoch 3/50\n",
      "391/391 [==============================] - 7s 19ms/step - loss: 1.6003 - accuracy: 0.4290 - val_loss: 1.5855 - val_accuracy: 0.4401\n",
      "Epoch 4/50\n",
      "391/391 [==============================] - 6s 15ms/step - loss: 1.5403 - accuracy: 0.4490 - val_loss: 1.5150 - val_accuracy: 0.4645\n",
      "Epoch 5/50\n",
      "391/391 [==============================] - 7s 18ms/step - loss: 1.4942 - accuracy: 0.4684 - val_loss: 1.5758 - val_accuracy: 0.4331\n",
      "Epoch 6/50\n",
      "391/391 [==============================] - 7s 19ms/step - loss: 1.4608 - accuracy: 0.4796 - val_loss: 1.4934 - val_accuracy: 0.4669\n",
      "Epoch 7/50\n",
      "391/391 [==============================] - 8s 20ms/step - loss: 1.4196 - accuracy: 0.4958 - val_loss: 1.4361 - val_accuracy: 0.4894\n",
      "Epoch 8/50\n",
      "391/391 [==============================] - 8s 19ms/step - loss: 1.3973 - accuracy: 0.5043 - val_loss: 1.4627 - val_accuracy: 0.4794\n",
      "Epoch 9/50\n",
      "391/391 [==============================] - 8s 20ms/step - loss: 1.3667 - accuracy: 0.5136 - val_loss: 1.4468 - val_accuracy: 0.4811\n",
      "Epoch 10/50\n",
      "391/391 [==============================] - 8s 19ms/step - loss: 1.3380 - accuracy: 0.5248 - val_loss: 1.4049 - val_accuracy: 0.5040\n",
      "Epoch 11/50\n",
      "391/391 [==============================] - 8s 20ms/step - loss: 1.3148 - accuracy: 0.5348 - val_loss: 1.4493 - val_accuracy: 0.4860\n",
      "Epoch 12/50\n",
      "391/391 [==============================] - 7s 19ms/step - loss: 1.2936 - accuracy: 0.5412 - val_loss: 1.4021 - val_accuracy: 0.4999\n",
      "Epoch 13/50\n",
      "391/391 [==============================] - 8s 20ms/step - loss: 1.2748 - accuracy: 0.5479 - val_loss: 1.4234 - val_accuracy: 0.4939\n",
      "Epoch 14/50\n",
      "391/391 [==============================] - 8s 19ms/step - loss: 1.2538 - accuracy: 0.5546 - val_loss: 1.4263 - val_accuracy: 0.4973\n",
      "Epoch 15/50\n",
      "391/391 [==============================] - 8s 20ms/step - loss: 1.2394 - accuracy: 0.5594 - val_loss: 1.3758 - val_accuracy: 0.5127\n",
      "Epoch 16/50\n",
      "391/391 [==============================] - 7s 19ms/step - loss: 1.2123 - accuracy: 0.5688 - val_loss: 1.3886 - val_accuracy: 0.5056\n",
      "Epoch 17/50\n",
      "391/391 [==============================] - 8s 20ms/step - loss: 1.2003 - accuracy: 0.5743 - val_loss: 1.3614 - val_accuracy: 0.5182\n",
      "Epoch 18/50\n",
      "391/391 [==============================] - 8s 20ms/step - loss: 1.1847 - accuracy: 0.5780 - val_loss: 1.4012 - val_accuracy: 0.5124\n",
      "Epoch 19/50\n",
      "391/391 [==============================] - 8s 20ms/step - loss: 1.1706 - accuracy: 0.5828 - val_loss: 1.3822 - val_accuracy: 0.5143\n",
      "Epoch 20/50\n",
      "391/391 [==============================] - 8s 19ms/step - loss: 1.1492 - accuracy: 0.5921 - val_loss: 1.3865 - val_accuracy: 0.5163\n",
      "Epoch 21/50\n",
      "391/391 [==============================] - 8s 19ms/step - loss: 1.1367 - accuracy: 0.5940 - val_loss: 1.3667 - val_accuracy: 0.5268\n",
      "Epoch 22/50\n",
      "391/391 [==============================] - 7s 19ms/step - loss: 1.1206 - accuracy: 0.6004 - val_loss: 1.4300 - val_accuracy: 0.5076\n",
      "Epoch 23/50\n",
      "391/391 [==============================] - 8s 20ms/step - loss: 1.1105 - accuracy: 0.6040 - val_loss: 1.3897 - val_accuracy: 0.5227\n",
      "Epoch 24/50\n",
      "391/391 [==============================] - 8s 20ms/step - loss: 1.0913 - accuracy: 0.6125 - val_loss: 1.4054 - val_accuracy: 0.5191\n",
      "Epoch 25/50\n",
      "391/391 [==============================] - 8s 20ms/step - loss: 1.0748 - accuracy: 0.6183 - val_loss: 1.3964 - val_accuracy: 0.5224\n",
      "Epoch 26/50\n",
      "391/391 [==============================] - 8s 20ms/step - loss: 1.0640 - accuracy: 0.6213 - val_loss: 1.4073 - val_accuracy: 0.5194\n",
      "Epoch 27/50\n",
      "391/391 [==============================] - 8s 20ms/step - loss: 1.0498 - accuracy: 0.6242 - val_loss: 1.4267 - val_accuracy: 0.5172\n",
      "Epoch 28/50\n",
      "391/391 [==============================] - 8s 20ms/step - loss: 1.0396 - accuracy: 0.6298 - val_loss: 1.4127 - val_accuracy: 0.5256\n",
      "Epoch 29/50\n",
      "391/391 [==============================] - 8s 20ms/step - loss: 1.0241 - accuracy: 0.6340 - val_loss: 1.4224 - val_accuracy: 0.5236\n",
      "Epoch 30/50\n",
      "391/391 [==============================] - 8s 20ms/step - loss: 1.0180 - accuracy: 0.6377 - val_loss: 1.3986 - val_accuracy: 0.5291\n",
      "Epoch 31/50\n",
      "391/391 [==============================] - 8s 20ms/step - loss: 0.9979 - accuracy: 0.6436 - val_loss: 1.4394 - val_accuracy: 0.5234\n",
      "Epoch 32/50\n",
      "391/391 [==============================] - 8s 20ms/step - loss: 0.9888 - accuracy: 0.6472 - val_loss: 1.4473 - val_accuracy: 0.5170\n",
      "Epoch 33/50\n",
      "391/391 [==============================] - 8s 20ms/step - loss: 0.9812 - accuracy: 0.6502 - val_loss: 1.4912 - val_accuracy: 0.5138\n",
      "Epoch 34/50\n",
      "391/391 [==============================] - 8s 20ms/step - loss: 0.9670 - accuracy: 0.6551 - val_loss: 1.4769 - val_accuracy: 0.5000\n",
      "Epoch 35/50\n",
      "391/391 [==============================] - 8s 19ms/step - loss: 0.9532 - accuracy: 0.6592 - val_loss: 1.4651 - val_accuracy: 0.5223\n",
      "Epoch 36/50\n",
      "391/391 [==============================] - 8s 20ms/step - loss: 0.9406 - accuracy: 0.6630 - val_loss: 1.4833 - val_accuracy: 0.5201\n",
      "Epoch 37/50\n",
      "391/391 [==============================] - 7s 19ms/step - loss: 0.9289 - accuracy: 0.6672 - val_loss: 1.4785 - val_accuracy: 0.5206\n",
      "Epoch 38/50\n",
      "391/391 [==============================] - 8s 20ms/step - loss: 0.9219 - accuracy: 0.6711 - val_loss: 1.4759 - val_accuracy: 0.5238\n",
      "Epoch 39/50\n",
      "391/391 [==============================] - 7s 18ms/step - loss: 0.9080 - accuracy: 0.6756 - val_loss: 1.5061 - val_accuracy: 0.5197\n",
      "Epoch 40/50\n",
      "391/391 [==============================] - 8s 21ms/step - loss: 0.9053 - accuracy: 0.6746 - val_loss: 1.4996 - val_accuracy: 0.5199\n",
      "Epoch 41/50\n",
      "391/391 [==============================] - 8s 19ms/step - loss: 0.8882 - accuracy: 0.6820 - val_loss: 1.5598 - val_accuracy: 0.5043\n",
      "Epoch 42/50\n",
      "391/391 [==============================] - 8s 20ms/step - loss: 0.8835 - accuracy: 0.6822 - val_loss: 1.5069 - val_accuracy: 0.5183\n",
      "Epoch 43/50\n",
      "391/391 [==============================] - 7s 19ms/step - loss: 0.8724 - accuracy: 0.6867 - val_loss: 1.5712 - val_accuracy: 0.5092\n",
      "Epoch 44/50\n",
      "391/391 [==============================] - 8s 20ms/step - loss: 0.8616 - accuracy: 0.6923 - val_loss: 1.5533 - val_accuracy: 0.5176\n",
      "Epoch 45/50\n",
      "391/391 [==============================] - 7s 19ms/step - loss: 0.8577 - accuracy: 0.6925 - val_loss: 1.6153 - val_accuracy: 0.5098\n",
      "Epoch 46/50\n",
      "391/391 [==============================] - 8s 19ms/step - loss: 0.8449 - accuracy: 0.6955 - val_loss: 1.5984 - val_accuracy: 0.5177\n",
      "Epoch 47/50\n",
      "391/391 [==============================] - 7s 19ms/step - loss: 0.8323 - accuracy: 0.7040 - val_loss: 1.5804 - val_accuracy: 0.5136\n",
      "Epoch 48/50\n",
      "391/391 [==============================] - 8s 19ms/step - loss: 0.8242 - accuracy: 0.7039 - val_loss: 1.6201 - val_accuracy: 0.5066\n",
      "Epoch 49/50\n",
      "391/391 [==============================] - 7s 19ms/step - loss: 0.8259 - accuracy: 0.7048 - val_loss: 1.6167 - val_accuracy: 0.5135\n",
      "Epoch 50/50\n",
      "391/391 [==============================] - 8s 19ms/step - loss: 0.8121 - accuracy: 0.7083 - val_loss: 1.6323 - val_accuracy: 0.5112\n"
     ]
    },
    {
     "data": {
      "text/plain": [
       "<keras.src.callbacks.History at 0x1da6619fed0>"
      ]
     },
     "execution_count": 16,
     "metadata": {},
     "output_type": "execute_result"
    }
   ],
   "source": [
    "model.fit(X_train,y_train,epochs=50,batch_size=128,validation_data=(X_test,y_test))"
   ]
  },
  {
   "cell_type": "code",
   "execution_count": 17,
   "id": "aa466c40",
   "metadata": {},
   "outputs": [],
   "source": [
    "from tensorflow.keras.preprocessing import image"
   ]
  },
  {
   "cell_type": "code",
   "execution_count": 18,
   "id": "217f4428",
   "metadata": {},
   "outputs": [],
   "source": [
    "img_path=r\"C:\\Users\\trupt\\Downloads\\istockphoto-155439315-612x612.jpg\""
   ]
  },
  {
   "cell_type": "code",
   "execution_count": 19,
   "id": "846df540",
   "metadata": {},
   "outputs": [],
   "source": [
    "img=image.load_img(img_path,target_size=(32,32))"
   ]
  },
  {
   "cell_type": "code",
   "execution_count": 20,
   "id": "25c76216",
   "metadata": {},
   "outputs": [],
   "source": [
    "img_array=image.img_to_array(img)"
   ]
  },
  {
   "cell_type": "code",
   "execution_count": 21,
   "id": "a9621ec9",
   "metadata": {},
   "outputs": [],
   "source": [
    "img_array=np.expand_dims(img_array,axis=0)"
   ]
  },
  {
   "cell_type": "code",
   "execution_count": 36,
   "id": "8413088b",
   "metadata": {},
   "outputs": [
    {
     "name": "stdout",
     "output_type": "stream",
     "text": [
      "1/1 [==============================] - 0s 39ms/step\n"
     ]
    }
   ],
   "source": [
    "pred=model.predict(img_array)"
   ]
  },
  {
   "cell_type": "code",
   "execution_count": 38,
   "id": "cccfe0a3",
   "metadata": {},
   "outputs": [
    {
     "data": {
      "text/plain": [
       "9"
      ]
     },
     "execution_count": 38,
     "metadata": {},
     "output_type": "execute_result"
    }
   ],
   "source": [
    "np.argmax(pred)"
   ]
  },
  {
   "cell_type": "code",
   "execution_count": null,
   "id": "22bb7a10",
   "metadata": {},
   "outputs": [],
   "source": []
  }
 ],
 "metadata": {
  "kernelspec": {
   "display_name": "Python 3 (ipykernel)",
   "language": "python",
   "name": "python3"
  },
  "language_info": {
   "codemirror_mode": {
    "name": "ipython",
    "version": 3
   },
   "file_extension": ".py",
   "mimetype": "text/x-python",
   "name": "python",
   "nbconvert_exporter": "python",
   "pygments_lexer": "ipython3",
   "version": "3.11.4"
  }
 },
 "nbformat": 4,
 "nbformat_minor": 5
}
